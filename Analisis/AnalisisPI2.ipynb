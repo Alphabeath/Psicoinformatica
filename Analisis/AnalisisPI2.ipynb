{
 "cells": [
  {
   "cell_type": "code",
   "execution_count": 1,
   "id": "368c0087-dd8c-4e67-8b33-043b09ea4ac8",
   "metadata": {},
   "outputs": [
    {
     "data": {
      "text/plain": [
       "'2.1.1'"
      ]
     },
     "execution_count": 1,
     "metadata": {},
     "output_type": "execute_result"
    }
   ],
   "source": [
    "import pandas as pd\n",
    "import seaborn as sns\n",
    "import matplotlib.pyplot as plt\n",
    "from scipy import stats\n",
    "from itertools import combinations\n",
    "import numpy as np\n",
    "import scinot as sn\n",
    "import openpyxl as xl\n",
    "import os\n",
    "pd.__version__"
   ]
  },
  {
   "cell_type": "code",
   "execution_count": 2,
   "id": "58c056ca-6103-4c38-a4c0-9bae7a24e0ba",
   "metadata": {
    "scrolled": true
   },
   "outputs": [
    {
     "data": {
      "text/html": [
       "<div>\n",
       "<style scoped>\n",
       "    .dataframe tbody tr th:only-of-type {\n",
       "        vertical-align: middle;\n",
       "    }\n",
       "\n",
       "    .dataframe tbody tr th {\n",
       "        vertical-align: top;\n",
       "    }\n",
       "\n",
       "    .dataframe thead th {\n",
       "        text-align: right;\n",
       "    }\n",
       "</style>\n",
       "<table border=\"1\" class=\"dataframe\">\n",
       "  <thead>\n",
       "    <tr style=\"text-align: right;\">\n",
       "      <th></th>\n",
       "      <th>Test no</th>\n",
       "      <th>Test Name</th>\n",
       "      <th>Learner</th>\n",
       "      <th>Trainer</th>\n",
       "      <th>Num Eye</th>\n",
       "      <th>Selected</th>\n",
       "      <th>Correctness</th>\n",
       "      <th>Intensity</th>\n",
       "      <th>C1</th>\n",
       "      <th>C2</th>\n",
       "      <th>C3</th>\n",
       "      <th>C4</th>\n",
       "      <th>Date</th>\n",
       "      <th>Answering Time (ms)</th>\n",
       "      <th>Sexo</th>\n",
       "    </tr>\n",
       "  </thead>\n",
       "  <tbody>\n",
       "    <tr>\n",
       "      <th>0</th>\n",
       "      <td>1</td>\n",
       "      <td>vulnerabilidad</td>\n",
       "      <td>Ana</td>\n",
       "      <td>Giorgio</td>\n",
       "      <td>5</td>\n",
       "      <td>Preocupado</td>\n",
       "      <td>Correcto</td>\n",
       "      <td>7</td>\n",
       "      <td>Preocupado</td>\n",
       "      <td>Irritado</td>\n",
       "      <td>Sarcástico</td>\n",
       "      <td>Amistoso</td>\n",
       "      <td>[2023-11-26 22:31(39.309)]</td>\n",
       "      <td>25562</td>\n",
       "      <td>Mujer</td>\n",
       "    </tr>\n",
       "    <tr>\n",
       "      <th>1</th>\n",
       "      <td>2</td>\n",
       "      <td>vulnerabilidad</td>\n",
       "      <td>Ana</td>\n",
       "      <td>Giorgio</td>\n",
       "      <td>6</td>\n",
       "      <td>Fantaseando</td>\n",
       "      <td>Correcto</td>\n",
       "      <td>3</td>\n",
       "      <td>Fantaseando</td>\n",
       "      <td>Horrorizado</td>\n",
       "      <td>Impaciente</td>\n",
       "      <td>Alarmado</td>\n",
       "      <td>[2023-11-26 22:31(56.563)]</td>\n",
       "      <td>17253</td>\n",
       "      <td>Mujer</td>\n",
       "    </tr>\n",
       "    <tr>\n",
       "      <th>2</th>\n",
       "      <td>3</td>\n",
       "      <td>vulnerabilidad</td>\n",
       "      <td>Ana</td>\n",
       "      <td>Giorgio</td>\n",
       "      <td>10</td>\n",
       "      <td>Cauteloso</td>\n",
       "      <td>Correcto</td>\n",
       "      <td>4</td>\n",
       "      <td>Cauteloso</td>\n",
       "      <td>Insistente</td>\n",
       "      <td>Aburrido</td>\n",
       "      <td>Horrorizado</td>\n",
       "      <td>[2023-11-26 22:32(15.13)]</td>\n",
       "      <td>18450</td>\n",
       "      <td>Mujer</td>\n",
       "    </tr>\n",
       "    <tr>\n",
       "      <th>3</th>\n",
       "      <td>4</td>\n",
       "      <td>vulnerabilidad</td>\n",
       "      <td>Ana</td>\n",
       "      <td>Giorgio</td>\n",
       "      <td>9</td>\n",
       "      <td>Hostil</td>\n",
       "      <td>Incorrecto</td>\n",
       "      <td>5</td>\n",
       "      <td>Preocupado</td>\n",
       "      <td>Molesto</td>\n",
       "      <td>Hostil</td>\n",
       "      <td>Aterrorizado</td>\n",
       "      <td>[2023-11-26 22:32(39.626)]</td>\n",
       "      <td>24613</td>\n",
       "      <td>Mujer</td>\n",
       "    </tr>\n",
       "    <tr>\n",
       "      <th>4</th>\n",
       "      <td>5</td>\n",
       "      <td>vulnerabilidad</td>\n",
       "      <td>Ana</td>\n",
       "      <td>Giorgio</td>\n",
       "      <td>13</td>\n",
       "      <td>Tímido</td>\n",
       "      <td>Incorrecto</td>\n",
       "      <td>5</td>\n",
       "      <td>Anticipando</td>\n",
       "      <td>Decidido</td>\n",
       "      <td>Amenazante</td>\n",
       "      <td>Tímido</td>\n",
       "      <td>[2023-11-26 22:33(12.514)]</td>\n",
       "      <td>32888</td>\n",
       "      <td>Mujer</td>\n",
       "    </tr>\n",
       "    <tr>\n",
       "      <th>...</th>\n",
       "      <td>...</td>\n",
       "      <td>...</td>\n",
       "      <td>...</td>\n",
       "      <td>...</td>\n",
       "      <td>...</td>\n",
       "      <td>...</td>\n",
       "      <td>...</td>\n",
       "      <td>...</td>\n",
       "      <td>...</td>\n",
       "      <td>...</td>\n",
       "      <td>...</td>\n",
       "      <td>...</td>\n",
       "      <td>...</td>\n",
       "      <td>...</td>\n",
       "      <td>...</td>\n",
       "    </tr>\n",
       "    <tr>\n",
       "      <th>1111</th>\n",
       "      <td>32</td>\n",
       "      <td>poder</td>\n",
       "      <td>Nicolas  Villanueva</td>\n",
       "      <td>Yerko</td>\n",
       "      <td>14</td>\n",
       "      <td>Acusador</td>\n",
       "      <td>Correcto</td>\n",
       "      <td>5</td>\n",
       "      <td>Acusador</td>\n",
       "      <td>Irritado</td>\n",
       "      <td>Decepcionado</td>\n",
       "      <td>Deprimido</td>\n",
       "      <td>[2023-12-11 01:30(06.395)]</td>\n",
       "      <td>2995</td>\n",
       "      <td>Hombre</td>\n",
       "    </tr>\n",
       "    <tr>\n",
       "      <th>1112</th>\n",
       "      <td>33</td>\n",
       "      <td>poder</td>\n",
       "      <td>Nicolas  Villanueva</td>\n",
       "      <td>Yerko</td>\n",
       "      <td>17</td>\n",
       "      <td>Dudoso</td>\n",
       "      <td>Correcto</td>\n",
       "      <td>7</td>\n",
       "      <td>Dudoso</td>\n",
       "      <td>Cariñoso</td>\n",
       "      <td>Juguetón</td>\n",
       "      <td>Horrorizado</td>\n",
       "      <td>[2023-12-11 01:30(10.591)]</td>\n",
       "      <td>4195</td>\n",
       "      <td>Hombre</td>\n",
       "    </tr>\n",
       "    <tr>\n",
       "      <th>1113</th>\n",
       "      <td>34</td>\n",
       "      <td>poder</td>\n",
       "      <td>Nicolas  Villanueva</td>\n",
       "      <td>Yerko</td>\n",
       "      <td>13</td>\n",
       "      <td>Tímido</td>\n",
       "      <td>Incorrecto</td>\n",
       "      <td>5</td>\n",
       "      <td>Anticipando</td>\n",
       "      <td>Decidido</td>\n",
       "      <td>Amenazante</td>\n",
       "      <td>Tímido</td>\n",
       "      <td>[2023-12-11 01:30(16.219)]</td>\n",
       "      <td>5628</td>\n",
       "      <td>Hombre</td>\n",
       "    </tr>\n",
       "    <tr>\n",
       "      <th>1114</th>\n",
       "      <td>35</td>\n",
       "      <td>poder</td>\n",
       "      <td>Nicolas  Villanueva</td>\n",
       "      <td>Yerko</td>\n",
       "      <td>26</td>\n",
       "      <td>Hostil</td>\n",
       "      <td>Correcto</td>\n",
       "      <td>3</td>\n",
       "      <td>Hostil</td>\n",
       "      <td>Alarmado</td>\n",
       "      <td>Tímido</td>\n",
       "      <td>Ansioso</td>\n",
       "      <td>[2023-12-11 01:30(18.651)]</td>\n",
       "      <td>2432</td>\n",
       "      <td>Hombre</td>\n",
       "    </tr>\n",
       "    <tr>\n",
       "      <th>1115</th>\n",
       "      <td>36</td>\n",
       "      <td>poder</td>\n",
       "      <td>Nicolas  Villanueva</td>\n",
       "      <td>Yerko</td>\n",
       "      <td>9</td>\n",
       "      <td>Preocupado</td>\n",
       "      <td>Correcto</td>\n",
       "      <td>7</td>\n",
       "      <td>Preocupado</td>\n",
       "      <td>Molesto</td>\n",
       "      <td>Hostil</td>\n",
       "      <td>Aterrorizado</td>\n",
       "      <td>[2023-12-11 01:30(21.734)]</td>\n",
       "      <td>3083</td>\n",
       "      <td>Hombre</td>\n",
       "    </tr>\n",
       "  </tbody>\n",
       "</table>\n",
       "<p>1116 rows × 15 columns</p>\n",
       "</div>"
      ],
      "text/plain": [
       "      Test no        Test Name               Learner   Trainer  Num Eye  \\\n",
       "0           1   vulnerabilidad                   Ana   Giorgio        5   \n",
       "1           2   vulnerabilidad                   Ana   Giorgio        6   \n",
       "2           3   vulnerabilidad                   Ana   Giorgio       10   \n",
       "3           4   vulnerabilidad                   Ana   Giorgio        9   \n",
       "4           5   vulnerabilidad                   Ana   Giorgio       13   \n",
       "...       ...              ...                   ...       ...      ...   \n",
       "1111       32            poder   Nicolas  Villanueva     Yerko       14   \n",
       "1112       33            poder   Nicolas  Villanueva     Yerko       17   \n",
       "1113       34            poder   Nicolas  Villanueva     Yerko       13   \n",
       "1114       35            poder   Nicolas  Villanueva     Yerko       26   \n",
       "1115       36            poder   Nicolas  Villanueva     Yerko        9   \n",
       "\n",
       "          Selected  Correctness   Intensity            C1            C2  \\\n",
       "0      Preocupado      Correcto           7   Preocupado       Irritado   \n",
       "1      Fantaseando     Correcto           3   Fantaseando   Horrorizado   \n",
       "2        Cauteloso     Correcto           4     Cauteloso    Insistente   \n",
       "3           Hostil   Incorrecto           5   Preocupado       Molesto    \n",
       "4           Tímido   Incorrecto           5   Anticipando      Decidido   \n",
       "...            ...          ...         ...           ...           ...   \n",
       "1111      Acusador     Correcto           5      Acusador      Irritado   \n",
       "1112        Dudoso     Correcto           7        Dudoso      Cariñoso   \n",
       "1113        Tímido   Incorrecto           5   Anticipando      Decidido   \n",
       "1114        Hostil     Correcto           3        Hostil      Alarmado   \n",
       "1115   Preocupado      Correcto           7   Preocupado       Molesto    \n",
       "\n",
       "                 C3             C4                         Date  \\\n",
       "0        Sarcástico       Amistoso   [2023-11-26 22:31(39.309)]   \n",
       "1        Impaciente       Alarmado   [2023-11-26 22:31(56.563)]   \n",
       "2          Aburrido    Horrorizado    [2023-11-26 22:32(15.13)]   \n",
       "3            Hostil   Aterrorizado   [2023-11-26 22:32(39.626)]   \n",
       "4        Amenazante         Tímido   [2023-11-26 22:33(12.514)]   \n",
       "...             ...            ...                          ...   \n",
       "1111   Decepcionado      Deprimido   [2023-12-11 01:30(06.395)]   \n",
       "1112       Juguetón    Horrorizado   [2023-12-11 01:30(10.591)]   \n",
       "1113     Amenazante         Tímido   [2023-12-11 01:30(16.219)]   \n",
       "1114         Tímido        Ansioso   [2023-12-11 01:30(18.651)]   \n",
       "1115         Hostil   Aterrorizado   [2023-12-11 01:30(21.734)]   \n",
       "\n",
       "       Answering Time (ms)     Sexo  \n",
       "0                    25562    Mujer  \n",
       "1                    17253    Mujer  \n",
       "2                    18450    Mujer  \n",
       "3                    24613    Mujer  \n",
       "4                    32888    Mujer  \n",
       "...                    ...      ...  \n",
       "1111                  2995   Hombre  \n",
       "1112                  4195   Hombre  \n",
       "1113                  5628   Hombre  \n",
       "1114                  2432   Hombre  \n",
       "1115                  3083   Hombre  \n",
       "\n",
       "[1116 rows x 15 columns]"
      ]
     },
     "execution_count": 2,
     "metadata": {},
     "output_type": "execute_result"
    }
   ],
   "source": [
    "temp = 'concatenado.csv'\n",
    "temp_bars = pd.read_csv(temp)\n",
    "temp_bars"
   ]
  },
  {
   "cell_type": "code",
   "execution_count": 3,
   "id": "80c9e29d-b89b-420d-bf0f-2957fa13b2cc",
   "metadata": {},
   "outputs": [
    {
     "data": {
      "text/html": [
       "<div>\n",
       "<style scoped>\n",
       "    .dataframe tbody tr th:only-of-type {\n",
       "        vertical-align: middle;\n",
       "    }\n",
       "\n",
       "    .dataframe tbody tr th {\n",
       "        vertical-align: top;\n",
       "    }\n",
       "\n",
       "    .dataframe thead th {\n",
       "        text-align: right;\n",
       "    }\n",
       "</style>\n",
       "<table border=\"1\" class=\"dataframe\">\n",
       "  <thead>\n",
       "    <tr style=\"text-align: right;\">\n",
       "      <th></th>\n",
       "      <th>Test no</th>\n",
       "      <th>Num Eye</th>\n",
       "      <th>Intensity</th>\n",
       "      <th>Answering Time (ms)</th>\n",
       "    </tr>\n",
       "  </thead>\n",
       "  <tbody>\n",
       "    <tr>\n",
       "      <th>count</th>\n",
       "      <td>1116.000000</td>\n",
       "      <td>1116.000000</td>\n",
       "      <td>1116.000000</td>\n",
       "      <td>1116.000000</td>\n",
       "    </tr>\n",
       "    <tr>\n",
       "      <th>mean</th>\n",
       "      <td>19.693548</td>\n",
       "      <td>18.500000</td>\n",
       "      <td>5.216846</td>\n",
       "      <td>12673.003584</td>\n",
       "    </tr>\n",
       "    <tr>\n",
       "      <th>std</th>\n",
       "      <td>12.279597</td>\n",
       "      <td>10.392952</td>\n",
       "      <td>1.432337</td>\n",
       "      <td>11560.717860</td>\n",
       "    </tr>\n",
       "    <tr>\n",
       "      <th>min</th>\n",
       "      <td>1.000000</td>\n",
       "      <td>1.000000</td>\n",
       "      <td>1.000000</td>\n",
       "      <td>933.000000</td>\n",
       "    </tr>\n",
       "    <tr>\n",
       "      <th>25%</th>\n",
       "      <td>10.000000</td>\n",
       "      <td>9.750000</td>\n",
       "      <td>4.000000</td>\n",
       "      <td>5854.000000</td>\n",
       "    </tr>\n",
       "    <tr>\n",
       "      <th>50%</th>\n",
       "      <td>19.000000</td>\n",
       "      <td>18.500000</td>\n",
       "      <td>5.000000</td>\n",
       "      <td>8743.000000</td>\n",
       "    </tr>\n",
       "    <tr>\n",
       "      <th>75%</th>\n",
       "      <td>28.000000</td>\n",
       "      <td>27.250000</td>\n",
       "      <td>6.000000</td>\n",
       "      <td>14787.250000</td>\n",
       "    </tr>\n",
       "    <tr>\n",
       "      <th>max</th>\n",
       "      <td>73.000000</td>\n",
       "      <td>36.000000</td>\n",
       "      <td>7.000000</td>\n",
       "      <td>106479.000000</td>\n",
       "    </tr>\n",
       "  </tbody>\n",
       "</table>\n",
       "</div>"
      ],
      "text/plain": [
       "           Test no      Num Eye    Intensity   Answering Time (ms)\n",
       "count  1116.000000  1116.000000  1116.000000           1116.000000\n",
       "mean     19.693548    18.500000     5.216846          12673.003584\n",
       "std      12.279597    10.392952     1.432337          11560.717860\n",
       "min       1.000000     1.000000     1.000000            933.000000\n",
       "25%      10.000000     9.750000     4.000000           5854.000000\n",
       "50%      19.000000    18.500000     5.000000           8743.000000\n",
       "75%      28.000000    27.250000     6.000000          14787.250000\n",
       "max      73.000000    36.000000     7.000000         106479.000000"
      ]
     },
     "execution_count": 3,
     "metadata": {},
     "output_type": "execute_result"
    }
   ],
   "source": [
    "temp_bars.describe()"
   ]
  },
  {
   "cell_type": "code",
   "execution_count": 4,
   "id": "ac9ac40e-9a73-4eec-b29d-6d718dfb0fe1",
   "metadata": {},
   "outputs": [
    {
     "data": {
      "text/plain": [
       " Test Name\n",
       " poder             576\n",
       " vulnerabilidad    540\n",
       "Name: count, dtype: int64"
      ]
     },
     "execution_count": 4,
     "metadata": {},
     "output_type": "execute_result"
    }
   ],
   "source": [
    "temp_bars[' Test Name'].value_counts()"
   ]
  },
  {
   "cell_type": "code",
   "execution_count": 5,
   "id": "297a685f-e499-4161-add6-bdea21a11860",
   "metadata": {},
   "outputs": [
    {
     "data": {
      "text/plain": [
       " Correctness\n",
       " Correcto      734\n",
       " Incorrecto    382\n",
       "Name: count, dtype: int64"
      ]
     },
     "execution_count": 5,
     "metadata": {},
     "output_type": "execute_result"
    }
   ],
   "source": [
    "temp_bars[' Correctness'].value_counts()"
   ]
  },
  {
   "cell_type": "code",
   "execution_count": 6,
   "id": "27a80492-a21f-4bc8-b0a2-58be7ab8dc67",
   "metadata": {},
   "outputs": [
    {
     "name": "stdout",
     "output_type": "stream",
     "text": [
      "Cantidad de aciertos: 734 Total de experimentos: 1116\n",
      "El sujeto ha tenido un: 65.77060931899642 % de acierto (p = 1.555755010977115e-26 < 0.05)\n"
     ]
    }
   ],
   "source": [
    "K_aciertos = temp_bars[' Correctness'].value_counts().iloc[0]\n",
    "N_datos = temp_bars.shape[0]\n",
    "print('Cantidad de aciertos:', K_aciertos, 'Total de experimentos:', N_datos)\n",
    "p = 0.5\n",
    "res = stats.binomtest(K_aciertos, N_datos, p, alternative = 'greater')\n",
    "if (res.pvalue < 0.05):\n",
    "    print('El sujeto ha tenido un:', K_aciertos / N_datos * 100, '% de acierto (p =', res.pvalue, '< 0.05)')\n",
    "else:\n",
    "    print('No se encontró evidencia estadística para afirmar que el sujeto ha tenido un porcentaje de acierto diferente del 50%')"
   ]
  },
  {
   "cell_type": "code",
   "execution_count": 7,
   "id": "d065ac83-3618-4c64-9af4-44d957278b55",
   "metadata": {},
   "outputs": [
    {
     "data": {
      "text/html": [
       "<div>\n",
       "<style scoped>\n",
       "    .dataframe tbody tr th:only-of-type {\n",
       "        vertical-align: middle;\n",
       "    }\n",
       "\n",
       "    .dataframe tbody tr th {\n",
       "        vertical-align: top;\n",
       "    }\n",
       "\n",
       "    .dataframe thead th {\n",
       "        text-align: right;\n",
       "    }\n",
       "</style>\n",
       "<table border=\"1\" class=\"dataframe\">\n",
       "  <thead>\n",
       "    <tr style=\"text-align: right;\">\n",
       "      <th>Test Name</th>\n",
       "      <th>poder</th>\n",
       "      <th>vulnerabilidad</th>\n",
       "    </tr>\n",
       "    <tr>\n",
       "      <th>Correctness</th>\n",
       "      <th></th>\n",
       "      <th></th>\n",
       "    </tr>\n",
       "  </thead>\n",
       "  <tbody>\n",
       "    <tr>\n",
       "      <th>Correcto</th>\n",
       "      <td>0.65625</td>\n",
       "      <td>0.659259</td>\n",
       "    </tr>\n",
       "    <tr>\n",
       "      <th>Incorrecto</th>\n",
       "      <td>0.34375</td>\n",
       "      <td>0.340741</td>\n",
       "    </tr>\n",
       "  </tbody>\n",
       "</table>\n",
       "</div>"
      ],
      "text/plain": [
       " Test Name      poder   vulnerabilidad\n",
       " Correctness                          \n",
       " Correcto     0.65625         0.659259\n",
       " Incorrecto   0.34375         0.340741"
      ]
     },
     "execution_count": 7,
     "metadata": {},
     "output_type": "execute_result"
    }
   ],
   "source": [
    "contigency_all = pd.crosstab(temp_bars[' Correctness'], temp_bars[' Test Name'], normalize = 'columns')\n",
    "contigency_all"
   ]
  },
  {
   "cell_type": "code",
   "execution_count": 8,
   "id": "e3191611-dee3-446e-bded-67609367cf48",
   "metadata": {},
   "outputs": [
    {
     "data": {
      "text/plain": [
       "<Axes: xlabel=' Test Name', ylabel=' Correctness'>"
      ]
     },
     "execution_count": 8,
     "metadata": {},
     "output_type": "execute_result"
    },
    {
     "data": {
      "image/png": "[encoded data removed]",
      "text/plain": [
       "<Figure size 1000x700 with 2 Axes>"
      ]
     },
     "metadata": {},
     "output_type": "display_data"
    }
   ],
   "source": [
    "plt.figure(figsize = (10, 7))\n",
    "sns.heatmap(contigency_all, annot = True, cmap = \"YlGnBu\")"
   ]
  },
  {
   "cell_type": "code",
   "execution_count": 9,
   "id": "88f77f58-f46d-4264-a207-54a0b8622a8d",
   "metadata": {},
   "outputs": [
    {
     "data": {
      "image/png": "[encoded data removed]",
      "text/plain": [
       "<Figure size 640x480 with 1 Axes>"
      ]
     },
     "metadata": {},
     "output_type": "display_data"
    }
   ],
   "source": [
    "# Crear un histograma para respuestas correctas\n",
    "sns.histplot(data=temp_bars[temp_bars[' Correctness'] == ' Correcto'], x=' Intensity', bins=20, kde=True, color='green', label='Correcto')\n",
    "\n",
    "# Crear un histograma para respuestas incorrectas\n",
    "sns.histplot(data=temp_bars[temp_bars[' Correctness'] == ' Incorrecto'], x=' Intensity', bins=20, kde=True, color='red', label='Incorrecto')\n",
    "\n",
    "# Configurar el gráfico\n",
    "plt.title('Histograma de Intensidad por Correctness')\n",
    "plt.xlabel('Intensidad')\n",
    "plt.ylabel('Frecuencia')\n",
    "plt.legend()\n",
    "\n",
    "# Mostrar el gráfico\n",
    "plt.show()"
   ]
  },
  {
   "cell_type": "code",
   "execution_count": 10,
   "id": "6958e85e-9077-4083-89d7-365c2d9aba3f",
   "metadata": {},
   "outputs": [
    {
     "name": "stdout",
     "output_type": "stream",
     "text": [
      "Valor de p:  1.0\n"
     ]
    }
   ],
   "source": [
    "c, p, dof, expected = stats.chi2_contingency(contigency_all)\n",
    "\n",
    "print(\"Valor de p: \", p)\n",
    "if(p < 0.05):\n",
    "    print(\"No se rechaza la hipotesis nula\")\n",
    "    "
   ]
  },
  {
   "cell_type": "code",
   "execution_count": 11,
   "id": "d736340b-8443-4def-8d67-d49e0b32aba0",
   "metadata": {},
   "outputs": [],
   "source": [
    "comb = combinations(range(1, 10), 4)\n",
    "comb_list = list(comb)"
   ]
  },
  {
   "cell_type": "code",
   "execution_count": 12,
   "id": "cd17003c-2b41-4443-bb58-4139438181f0",
   "metadata": {},
   "outputs": [
    {
     "data": {
      "text/plain": [
       " Correctness\n",
       " Correcto      734\n",
       " Incorrecto    382\n",
       "Name: count, dtype: int64"
      ]
     },
     "execution_count": 12,
     "metadata": {},
     "output_type": "execute_result"
    }
   ],
   "source": [
    "correct_values = temp_bars[' Correctness'].value_counts()\n",
    "correct_values"
   ]
  },
  {
   "cell_type": "code",
   "execution_count": 13,
   "id": "62734cfd-0009-4b2d-b91b-fa02b31fcc5b",
   "metadata": {},
   "outputs": [
    {
     "data": {
      "text/plain": [
       " Test Name\n",
       " poder             16.0\n",
       " vulnerabilidad    15.0\n",
       "Name: count, dtype: float64"
      ]
     },
     "execution_count": 13,
     "metadata": {},
     "output_type": "execute_result"
    }
   ],
   "source": [
    "# Contar la cantidad de personas que eligieron cada opción en la columna \"Test Name\"\n",
    "count_per_option = temp_bars[' Test Name'].value_counts()\n",
    "count_per_option = count_per_option / 36\n",
    "# Mostrar el resultado\n",
    "count_per_option"
   ]
  },
  {
   "cell_type": "code",
   "execution_count": 14,
   "id": "a54fdb9d-4277-41b1-bb00-9d946f9d661e",
   "metadata": {},
   "outputs": [],
   "source": [
    "poder_data = temp_bars[temp_bars[' Test Name'] == ' poder']\n",
    "vulnerabilidad_data = temp_bars[temp_bars[' Test Name'] == ' vulnerabilidad']"
   ]
  },
  {
   "cell_type": "code",
   "execution_count": 17,
   "id": "c3478eb0-5150-4b2c-94d0-863a308567f8",
   "metadata": {},
   "outputs": [
    {
     "name": "stdout",
     "output_type": "stream",
     "text": [
      "Análisis de intensidad para poder\n",
      "Media de la intensidad 5.267361111111111\n",
      "Mediana de la intensidad: 5.0\n",
      "Respuesta de intensidad mínimo: 1\n",
      "Respuesta de intensidad máximo: 7\n",
      "Desviación estándar de la intensidad: 1.3998921628585719\n",
      "\n",
      "\n",
      "Análisis de intensidad para vulnerabilidad\n",
      "Media de la intensidad 5.162962962962963\n",
      "Mediana de la intensidad: 5.0\n",
      "Respuesta de intensidad mínimo: 1\n",
      "Respuesta de intensidad máximo: 7\n",
      "Desviación estándar de la intensidad: 1.46553431672722\n"
     ]
    }
   ],
   "source": [
    "def analyze_data_intensity(data, test_name):\n",
    "    # Realizar el análisis específico para cada conjunto de datos (data)\n",
    "    \n",
    "    # Ejemplo de análisis: Calcular estadísticas del tiempo de respuesta\n",
    "    response_intensity = data[' Intensity']\n",
    "    mean_response_intensity = response_intensity.mean()\n",
    "    median_response_intensity = response_intensity.median()\n",
    "    min_response_intensity = response_intensity.min()\n",
    "    max_response_intensity = response_intensity.max()\n",
    "    std_response_intensity = response_intensity.std()\n",
    "    \n",
    "    print('Análisis de intensidad para', test_name)\n",
    "    print('Media de la intensidad', mean_response_intensity)\n",
    "    print('Mediana de la intensidad:', median_response_intensity)\n",
    "    print('Respuesta de intensidad mínimo:', min_response_intensity)\n",
    "    print('Respuesta de intensidad máximo:', max_response_intensity)\n",
    "    print('Desviación estándar de la intensidad:', std_response_intensity)\n",
    "    \n",
    "    # Puedes continuar con otros análisis específicos para el tiempo de respuesta\n",
    "\n",
    "# Llamar a la función para analizar los tiempos de respuesta de \"poder\"\n",
    "analyze_data_intensity(poder_data, \"poder\")\n",
    "print(\"\\n\")\n",
    "# Llamar a la función para analizar los tiempos de respuesta de \"vulnerabilidad\"\n",
    "analyze_data_intensity(vulnerabilidad_data, \"vulnerabilidad\")"
   ]
  },
  {
   "cell_type": "code",
   "execution_count": 16,
   "id": "bfb5e187-1ff5-4b2e-a3b9-c3a24d2f4887",
   "metadata": {},
   "outputs": [
    {
     "name": "stdout",
     "output_type": "stream",
     "text": [
      "Análisis de tiempos de respuesta para poder\n",
      "Media del tiempo de respuesta: 12520.671875\n",
      "Mediana del tiempo de respuesta: 8596.0\n",
      "Tiempo de respuesta mínimo: 933\n",
      "Tiempo de respuesta máximo: 106479\n",
      "Desviación estándar del tiempo de respuesta: 11777.60939151504\n",
      "\n",
      "\n",
      "Análisis de tiempos de respuesta para vulnerabilidad\n",
      "Media del tiempo de respuesta: 12835.49074074074\n",
      "Mediana del tiempo de respuesta: 8905.5\n",
      "Tiempo de respuesta mínimo: 2085\n",
      "Tiempo de respuesta máximo: 77925\n",
      "Desviación estándar del tiempo de respuesta: 11333.443317144163\n"
     ]
    }
   ],
   "source": [
    "def analyze_data_time(data, test_name):\n",
    "    # Realizar el análisis específico para cada conjunto de datos (data)\n",
    "    \n",
    "    # Ejemplo de análisis: Calcular estadísticas del tiempo de respuesta\n",
    "    response_times = data[' Answering Time (ms)']\n",
    "    mean_response_time = response_times.mean()\n",
    "    median_response_time = response_times.median()\n",
    "    min_response_time = response_times.min()\n",
    "    max_response_time = response_times.max()\n",
    "    std_response_time = response_times.std()\n",
    "    \n",
    "    print('Análisis de tiempos de respuesta para', test_name)\n",
    "    print('Media del tiempo de respuesta:', mean_response_time)\n",
    "    print('Mediana del tiempo de respuesta:', median_response_time)\n",
    "    print('Tiempo de respuesta mínimo:', min_response_time)\n",
    "    print('Tiempo de respuesta máximo:', max_response_time)\n",
    "    print('Desviación estándar del tiempo de respuesta:', std_response_time)\n",
    "    \n",
    "    # Puedes continuar con otros análisis específicos para el tiempo de respuesta\n",
    "\n",
    "# Llamar a la función para analizar los tiempos de respuesta de \"poder\"\n",
    "analyze_data_time(poder_data, \"poder\")\n",
    "print(\"\\n\")\n",
    "# Llamar a la función para analizar los tiempos de respuesta de \"vulnerabilidad\"\n",
    "analyze_data_time(vulnerabilidad_data, \"vulnerabilidad\")"
   ]
  },
  {
   "cell_type": "code",
   "execution_count": null,
   "id": "cc45793e-b95a-4759-b694-13cb43a10fa7",
   "metadata": {},
   "outputs": [],
   "source": []
  },
  {
   "cell_type": "code",
   "execution_count": null,
   "id": "fcc497d3-08df-413f-86cc-9b723d77eaa8",
   "metadata": {},
   "outputs": [],
   "source": []
  }
 ],
 "metadata": {
  "kernelspec": {
   "display_name": "Python 3 (ipykernel)",
   "language": "python",
   "name": "python3"
  },
  "language_info": {
   "codemirror_mode": {
    "name": "ipython",
    "version": 3
   },
   "file_extension": ".py",
   "mimetype": "text/x-python",
   "name": "python",
   "nbconvert_exporter": "python",
   "pygments_lexer": "ipython3",
   "version": "3.10.12"
  }
 },
 "nbformat": 4,
 "nbformat_minor": 5
}
